{
 "cells": [
  {
   "cell_type": "markdown",
   "id": "fcc0c25f",
   "metadata": {},
   "source": [
    "# Bengaluru Food Affordability & Popularity Analysis\n",
    "This notebook explores restaurant trends in Bengaluru using Python. The goal is to practice beginner-level data analytics skills."
   ]
  },
  {
   "cell_type": "markdown",
   "id": "ab97f3f0",
   "metadata": {},
   "source": [
    "## Import Libraries"
   ]
  },
  {
   "cell_type": "code",
   "execution_count": null,
   "id": "60a8c366",
   "metadata": {},
   "outputs": [],
   "source": [
    "import pandas as pd\n",
    "import matplotlib.pyplot as plt\n",
    "import seaborn as sns\n",
    "\n",
    "sns.set(style='whitegrid')"
   ]
  },
  {
   "cell_type": "markdown",
   "id": "2274455f",
   "metadata": {},
   "source": [
    "## Load Dataset"
   ]
  },
  {
   "cell_type": "code",
   "execution_count": null,
   "id": "fe6a2ea1",
   "metadata": {},
   "outputs": [],
   "source": [
    "df = pd.read_csv('BangaloreZomatoData.csv')\n",
    "df.head()"
   ]
  },
  {
   "cell_type": "markdown",
   "id": "79082fbd",
   "metadata": {},
   "source": [
    "## Data Cleaning\n",
    "Check for missing values and drop duplicates."
   ]
  },
  {
   "cell_type": "code",
   "execution_count": null,
   "id": "8fba5497",
   "metadata": {},
   "outputs": [],
   "source": [
    "df.info()\n",
    "df.isnull().sum()\n",
    "df.drop_duplicates(inplace=True)\n",
    "print('Cleaned dataset shape:', df.shape)"
   ]
  },
  {
   "cell_type": "markdown",
   "id": "c15a62d8",
   "metadata": {},
   "source": [
    "## Exploratory Data Analysis\n",
    "### Distribution of Ratings"
   ]
  },
  {
   "cell_type": "code",
   "execution_count": null,
   "id": "d73310af",
   "metadata": {},
   "outputs": [],
   "source": [
    "plt.figure(figsize=(6,4))\n",
    "sns.histplot(df['Rating'].dropna(), bins=10)\n",
    "plt.title('Distribution of Ratings')\n",
    "plt.xlabel('Rating')\n",
    "plt.ylabel('Count')\n",
    "plt.show()"
   ]
  },
  {
   "cell_type": "markdown",
   "id": "44b58b95",
   "metadata": {},
   "source": [
    "### Top 10 Cuisines"
   ]
  },
  {
   "cell_type": "code",
   "execution_count": null,
   "id": "5811ec0b",
   "metadata": {},
   "outputs": [],
   "source": [
    "top_cuisines = df['Cuisines'].value_counts().head(10)\n",
    "plt.figure(figsize=(8,5))\n",
    "sns.barplot(x=top_cuisines.values, y=top_cuisines.index, palette='viridis')\n",
    "plt.title('Top 10 Cuisines in Bengaluru')\n",
    "plt.xlabel('Count')\n",
    "plt.ylabel('Cuisine')\n",
    "plt.tight_layout()\n",
    "plt.savefig('figures/top_cuisines.png')\n",
    "plt.show()"
   ]
  },
  {
   "cell_type": "markdown",
   "id": "f95622f2",
   "metadata": {},
   "source": [
    "## Key Insights\n",
    "- Most popular cuisines include North Indian, Chinese, and South Indian.\n",
    "- Ratings cluster between 3.0 and 4.5.\n",
    "- Certain areas show higher average costs."
   ]
  },
  {
   "cell_type": "markdown",
   "id": "48407040",
   "metadata": {},
   "source": [
    "## Conclusion\n",
    "This analysis provides a basic understanding of Bengaluru's food trends. This project showing how Python, Excel, and SQL can be combined for data analytics."
   ]
  }
 ],
 "metadata": {},
 "nbformat": 4,
 "nbformat_minor": 5
}
